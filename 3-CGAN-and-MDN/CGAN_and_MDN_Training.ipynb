{
  "cells": [
    {
      "cell_type": "code",
      "execution_count": 1,
      "id": "9a41a29c",
      "metadata": {
        "id": "9a41a29c"
      },
      "outputs": [],
      "source": [
        "import torch\n",
        "import numpy as np\n",
        "import pandas as pd\n",
        "import matplotlib.pyplot as plt\n",
        "import torch\n",
        "import torch.nn as nn\n",
        "from sklearn.model_selection import train_test_split\n",
        "from sklearn.preprocessing import StandardScaler\n"
      ]
    },
    {
      "cell_type": "code",
      "execution_count": 2,
      "id": "a4725d68",
      "metadata": {
        "id": "a4725d68"
      },
      "outputs": [],
      "source": [
        "torch.manual_seed(42)\n",
        "np.random.seed(42)\n",
        "device = torch.device(\"cuda\" if torch.cuda.is_available() else \"cpu\")"
      ]
    },
    {
      "cell_type": "code",
      "execution_count": null,
      "id": "39b72dcc",
      "metadata": {
        "colab": {
          "base_uri": "https://localhost:8080/",
          "height": 206
        },
        "id": "39b72dcc",
        "outputId": "1f1c5e72-82e4-4865-9771-b0127b5c0e5e"
      },
      "outputs": [
        {
          "data": {
            "application/vnd.google.colaboratory.intrinsic+json": {
              "summary": "{\n  \"name\": \"df\",\n  \"rows\": 33410,\n  \"fields\": [\n    {\n      \"column\": \"z\",\n      \"properties\": {\n        \"dtype\": \"number\",\n        \"std\": 0.20184054424530173,\n        \"min\": 0.002275731,\n        \"max\": 0.7996753,\n        \"num_unique_values\": 33328,\n        \"samples\": [\n          0.3482109,\n          0.0861951,\n          0.7036638\n        ],\n        \"semantic_type\": \"\",\n        \"description\": \"\"\n      }\n    },\n    {\n      \"column\": \"MAG_AUTO_G\",\n      \"properties\": {\n        \"dtype\": \"number\",\n        \"std\": 1.7482856912101499,\n        \"min\": 14.080400466918944,\n        \"max\": 24.8523006439209,\n        \"num_unique_values\": 25514,\n        \"samples\": [\n          21.19059944152832,\n          16.60689926147461,\n          18.51490020751953\n        ],\n        \"semantic_type\": \"\",\n        \"description\": \"\"\n      }\n    },\n    {\n      \"column\": \"MAG_AUTO_R\",\n      \"properties\": {\n        \"dtype\": \"number\",\n        \"std\": 1.373234358581908,\n        \"min\": 13.24779987335205,\n        \"max\": 22.12730026245117,\n        \"num_unique_values\": 23953,\n        \"samples\": [\n          20.11090087890625,\n          20.26689910888672,\n          20.87420082092285\n        ],\n        \"semantic_type\": \"\",\n        \"description\": \"\"\n      }\n    },\n    {\n      \"column\": \"MAG_AUTO_I\",\n      \"properties\": {\n        \"dtype\": \"number\",\n        \"std\": 1.2177604080797906,\n        \"min\": 12.887999534606934,\n        \"max\": 21.86709976196289,\n        \"num_unique_values\": 22746,\n        \"samples\": [\n          20.1289005279541,\n          17.333999633789062,\n          17.306699752807617\n        ],\n        \"semantic_type\": \"\",\n        \"description\": \"\"\n      }\n    },\n    {\n      \"column\": \"MAG_AUTO_Z\",\n      \"properties\": {\n        \"dtype\": \"number\",\n        \"std\": 1.1757725502158134,\n        \"min\": 12.602800369262695,\n        \"max\": 21.57830047607422,\n        \"num_unique_values\": 22401,\n        \"samples\": [\n          18.224899291992188,\n          18.06130027770996,\n          17.822599411010742\n        ],\n        \"semantic_type\": \"\",\n        \"description\": \"\"\n      }\n    }\n  ]\n}",
              "type": "dataframe",
              "variable_name": "df"
            },
            "text/html": [
              "\n",
              "  <div id=\"df-4297e4b6-8f2c-4f7a-b590-b2cb6968f9c9\" class=\"colab-df-container\">\n",
              "    <div>\n",
              "<style scoped>\n",
              "    .dataframe tbody tr th:only-of-type {\n",
              "        vertical-align: middle;\n",
              "    }\n",
              "\n",
              "    .dataframe tbody tr th {\n",
              "        vertical-align: top;\n",
              "    }\n",
              "\n",
              "    .dataframe thead th {\n",
              "        text-align: right;\n",
              "    }\n",
              "</style>\n",
              "<table border=\"1\" class=\"dataframe\">\n",
              "  <thead>\n",
              "    <tr style=\"text-align: right;\">\n",
              "      <th></th>\n",
              "      <th>z</th>\n",
              "      <th>MAG_AUTO_G</th>\n",
              "      <th>MAG_AUTO_R</th>\n",
              "      <th>MAG_AUTO_I</th>\n",
              "      <th>MAG_AUTO_Z</th>\n",
              "    </tr>\n",
              "  </thead>\n",
              "  <tbody>\n",
              "    <tr>\n",
              "      <th>0</th>\n",
              "      <td>0.487877</td>\n",
              "      <td>22.477301</td>\n",
              "      <td>20.988800</td>\n",
              "      <td>20.424500</td>\n",
              "      <td>20.143900</td>\n",
              "    </tr>\n",
              "    <tr>\n",
              "      <th>1</th>\n",
              "      <td>0.542116</td>\n",
              "      <td>22.528000</td>\n",
              "      <td>20.726801</td>\n",
              "      <td>19.908001</td>\n",
              "      <td>19.562599</td>\n",
              "    </tr>\n",
              "    <tr>\n",
              "      <th>2</th>\n",
              "      <td>0.088652</td>\n",
              "      <td>17.335899</td>\n",
              "      <td>16.480900</td>\n",
              "      <td>16.117300</td>\n",
              "      <td>15.835100</td>\n",
              "    </tr>\n",
              "    <tr>\n",
              "      <th>3</th>\n",
              "      <td>0.079106</td>\n",
              "      <td>18.039499</td>\n",
              "      <td>17.372999</td>\n",
              "      <td>17.069401</td>\n",
              "      <td>16.846300</td>\n",
              "    </tr>\n",
              "    <tr>\n",
              "      <th>4</th>\n",
              "      <td>0.129128</td>\n",
              "      <td>19.151699</td>\n",
              "      <td>18.665701</td>\n",
              "      <td>18.446100</td>\n",
              "      <td>18.326900</td>\n",
              "    </tr>\n",
              "  </tbody>\n",
              "</table>\n",
              "</div>\n",
              "    <div class=\"colab-df-buttons\">\n",
              "\n",
              "  <div class=\"colab-df-container\">\n",
              "    <button class=\"colab-df-convert\" onclick=\"convertToInteractive('df-4297e4b6-8f2c-4f7a-b590-b2cb6968f9c9')\"\n",
              "            title=\"Convert this dataframe to an interactive table.\"\n",
              "            style=\"display:none;\">\n",
              "\n",
              "  <svg xmlns=\"http://www.w3.org/2000/svg\" height=\"24px\" viewBox=\"0 -960 960 960\">\n",
              "    <path d=\"M120-120v-720h720v720H120Zm60-500h600v-160H180v160Zm220 220h160v-160H400v160Zm0 220h160v-160H400v160ZM180-400h160v-160H180v160Zm440 0h160v-160H620v160ZM180-180h160v-160H180v160Zm440 0h160v-160H620v160Z\"/>\n",
              "  </svg>\n",
              "    </button>\n",
              "\n",
              "  <style>\n",
              "    .colab-df-container {\n",
              "      display:flex;\n",
              "      gap: 12px;\n",
              "    }\n",
              "\n",
              "    .colab-df-convert {\n",
              "      background-color: #E8F0FE;\n",
              "      border: none;\n",
              "      border-radius: 50%;\n",
              "      cursor: pointer;\n",
              "      display: none;\n",
              "      fill: #1967D2;\n",
              "      height: 32px;\n",
              "      padding: 0 0 0 0;\n",
              "      width: 32px;\n",
              "    }\n",
              "\n",
              "    .colab-df-convert:hover {\n",
              "      background-color: #E2EBFA;\n",
              "      box-shadow: 0px 1px 2px rgba(60, 64, 67, 0.3), 0px 1px 3px 1px rgba(60, 64, 67, 0.15);\n",
              "      fill: #174EA6;\n",
              "    }\n",
              "\n",
              "    .colab-df-buttons div {\n",
              "      margin-bottom: 4px;\n",
              "    }\n",
              "\n",
              "    [theme=dark] .colab-df-convert {\n",
              "      background-color: #3B4455;\n",
              "      fill: #D2E3FC;\n",
              "    }\n",
              "\n",
              "    [theme=dark] .colab-df-convert:hover {\n",
              "      background-color: #434B5C;\n",
              "      box-shadow: 0px 1px 3px 1px rgba(0, 0, 0, 0.15);\n",
              "      filter: drop-shadow(0px 1px 2px rgba(0, 0, 0, 0.3));\n",
              "      fill: #FFFFFF;\n",
              "    }\n",
              "  </style>\n",
              "\n",
              "    <script>\n",
              "      const buttonEl =\n",
              "        document.querySelector('#df-4297e4b6-8f2c-4f7a-b590-b2cb6968f9c9 button.colab-df-convert');\n",
              "      buttonEl.style.display =\n",
              "        google.colab.kernel.accessAllowed ? 'block' : 'none';\n",
              "\n",
              "      async function convertToInteractive(key) {\n",
              "        const element = document.querySelector('#df-4297e4b6-8f2c-4f7a-b590-b2cb6968f9c9');\n",
              "        const dataTable =\n",
              "          await google.colab.kernel.invokeFunction('convertToInteractive',\n",
              "                                                    [key], {});\n",
              "        if (!dataTable) return;\n",
              "\n",
              "        const docLinkHtml = 'Like what you see? Visit the ' +\n",
              "          '<a target=\"_blank\" href=https://colab.research.google.com/notebooks/data_table.ipynb>data table notebook</a>'\n",
              "          + ' to learn more about interactive tables.';\n",
              "        element.innerHTML = '';\n",
              "        dataTable['output_type'] = 'display_data';\n",
              "        await google.colab.output.renderOutput(dataTable, element);\n",
              "        const docLink = document.createElement('div');\n",
              "        docLink.innerHTML = docLinkHtml;\n",
              "        element.appendChild(docLink);\n",
              "      }\n",
              "    </script>\n",
              "  </div>\n",
              "\n",
              "\n",
              "    <div id=\"df-874a3f81-6c60-4662-b825-e025a13f23a8\">\n",
              "      <button class=\"colab-df-quickchart\" onclick=\"quickchart('df-874a3f81-6c60-4662-b825-e025a13f23a8')\"\n",
              "                title=\"Suggest charts\"\n",
              "                style=\"display:none;\">\n",
              "\n",
              "<svg xmlns=\"http://www.w3.org/2000/svg\" height=\"24px\"viewBox=\"0 0 24 24\"\n",
              "     width=\"24px\">\n",
              "    <g>\n",
              "        <path d=\"M19 3H5c-1.1 0-2 .9-2 2v14c0 1.1.9 2 2 2h14c1.1 0 2-.9 2-2V5c0-1.1-.9-2-2-2zM9 17H7v-7h2v7zm4 0h-2V7h2v10zm4 0h-2v-4h2v4z\"/>\n",
              "    </g>\n",
              "</svg>\n",
              "      </button>\n",
              "\n",
              "<style>\n",
              "  .colab-df-quickchart {\n",
              "      --bg-color: #E8F0FE;\n",
              "      --fill-color: #1967D2;\n",
              "      --hover-bg-color: #E2EBFA;\n",
              "      --hover-fill-color: #174EA6;\n",
              "      --disabled-fill-color: #AAA;\n",
              "      --disabled-bg-color: #DDD;\n",
              "  }\n",
              "\n",
              "  [theme=dark] .colab-df-quickchart {\n",
              "      --bg-color: #3B4455;\n",
              "      --fill-color: #D2E3FC;\n",
              "      --hover-bg-color: #434B5C;\n",
              "      --hover-fill-color: #FFFFFF;\n",
              "      --disabled-bg-color: #3B4455;\n",
              "      --disabled-fill-color: #666;\n",
              "  }\n",
              "\n",
              "  .colab-df-quickchart {\n",
              "    background-color: var(--bg-color);\n",
              "    border: none;\n",
              "    border-radius: 50%;\n",
              "    cursor: pointer;\n",
              "    display: none;\n",
              "    fill: var(--fill-color);\n",
              "    height: 32px;\n",
              "    padding: 0;\n",
              "    width: 32px;\n",
              "  }\n",
              "\n",
              "  .colab-df-quickchart:hover {\n",
              "    background-color: var(--hover-bg-color);\n",
              "    box-shadow: 0 1px 2px rgba(60, 64, 67, 0.3), 0 1px 3px 1px rgba(60, 64, 67, 0.15);\n",
              "    fill: var(--button-hover-fill-color);\n",
              "  }\n",
              "\n",
              "  .colab-df-quickchart-complete:disabled,\n",
              "  .colab-df-quickchart-complete:disabled:hover {\n",
              "    background-color: var(--disabled-bg-color);\n",
              "    fill: var(--disabled-fill-color);\n",
              "    box-shadow: none;\n",
              "  }\n",
              "\n",
              "  .colab-df-spinner {\n",
              "    border: 2px solid var(--fill-color);\n",
              "    border-color: transparent;\n",
              "    border-bottom-color: var(--fill-color);\n",
              "    animation:\n",
              "      spin 1s steps(1) infinite;\n",
              "  }\n",
              "\n",
              "  @keyframes spin {\n",
              "    0% {\n",
              "      border-color: transparent;\n",
              "      border-bottom-color: var(--fill-color);\n",
              "      border-left-color: var(--fill-color);\n",
              "    }\n",
              "    20% {\n",
              "      border-color: transparent;\n",
              "      border-left-color: var(--fill-color);\n",
              "      border-top-color: var(--fill-color);\n",
              "    }\n",
              "    30% {\n",
              "      border-color: transparent;\n",
              "      border-left-color: var(--fill-color);\n",
              "      border-top-color: var(--fill-color);\n",
              "      border-right-color: var(--fill-color);\n",
              "    }\n",
              "    40% {\n",
              "      border-color: transparent;\n",
              "      border-right-color: var(--fill-color);\n",
              "      border-top-color: var(--fill-color);\n",
              "    }\n",
              "    60% {\n",
              "      border-color: transparent;\n",
              "      border-right-color: var(--fill-color);\n",
              "    }\n",
              "    80% {\n",
              "      border-color: transparent;\n",
              "      border-right-color: var(--fill-color);\n",
              "      border-bottom-color: var(--fill-color);\n",
              "    }\n",
              "    90% {\n",
              "      border-color: transparent;\n",
              "      border-bottom-color: var(--fill-color);\n",
              "    }\n",
              "  }\n",
              "</style>\n",
              "\n",
              "      <script>\n",
              "        async function quickchart(key) {\n",
              "          const quickchartButtonEl =\n",
              "            document.querySelector('#' + key + ' button');\n",
              "          quickchartButtonEl.disabled = true;  // To prevent multiple clicks.\n",
              "          quickchartButtonEl.classList.add('colab-df-spinner');\n",
              "          try {\n",
              "            const charts = await google.colab.kernel.invokeFunction(\n",
              "                'suggestCharts', [key], {});\n",
              "          } catch (error) {\n",
              "            console.error('Error during call to suggestCharts:', error);\n",
              "          }\n",
              "          quickchartButtonEl.classList.remove('colab-df-spinner');\n",
              "          quickchartButtonEl.classList.add('colab-df-quickchart-complete');\n",
              "        }\n",
              "        (() => {\n",
              "          let quickchartButtonEl =\n",
              "            document.querySelector('#df-874a3f81-6c60-4662-b825-e025a13f23a8 button');\n",
              "          quickchartButtonEl.style.display =\n",
              "            google.colab.kernel.accessAllowed ? 'block' : 'none';\n",
              "        })();\n",
              "      </script>\n",
              "    </div>\n",
              "\n",
              "    </div>\n",
              "  </div>\n"
            ],
            "text/plain": [
              "          z  MAG_AUTO_G  MAG_AUTO_R  MAG_AUTO_I  MAG_AUTO_Z\n",
              "0  0.487877   22.477301   20.988800   20.424500   20.143900\n",
              "1  0.542116   22.528000   20.726801   19.908001   19.562599\n",
              "2  0.088652   17.335899   16.480900   16.117300   15.835100\n",
              "3  0.079106   18.039499   17.372999   17.069401   16.846300\n",
              "4  0.129128   19.151699   18.665701   18.446100   18.326900"
            ]
          },
          "execution_count": 3,
          "metadata": {},
          "output_type": "execute_result"
        }
      ],
      "source": [
        "df = pd.read_csv('stripe82_galaxies.csv')\n",
        "df.head()"
      ]
    },
    {
      "cell_type": "code",
      "execution_count": 4,
      "id": "31237811",
      "metadata": {
        "colab": {
          "base_uri": "https://localhost:8080/",
          "height": 472
        },
        "id": "31237811",
        "outputId": "0e1f64fb-da35-4f88-ce13-057af5fd95a6"
      },
      "outputs": [
        {
          "data": {
            "image/png": "[encoded data removed]",
            "text/plain": [
              "<Figure size 640x480 with 1 Axes>"
            ]
          },
          "metadata": {},
          "output_type": "display_data"
        }
      ],
      "source": [
        "# Plot histogram of redshift\n",
        "plt.hist(df['z'], bins=50)\n",
        "plt.xlabel('Redshift (z)')\n",
        "plt.ylabel('Number of galaxies')\n",
        "plt.title('Redshift Distribution')\n",
        "plt.show()"
      ]
    },
    {
      "cell_type": "markdown",
      "id": "7bf97da4",
      "metadata": {
        "id": "7bf97da4"
      },
      "source": [
        "##### Data Preparation"
      ]
    },
    {
      "cell_type": "code",
      "execution_count": 5,
      "id": "7dd02f50",
      "metadata": {
        "id": "7dd02f50"
      },
      "outputs": [],
      "source": [
        "X = df.drop(columns=['z']).values\n",
        "y = df['z'].values.reshape(-1,1)\n",
        "\n",
        "X_train, X_test, y_train, y_test = train_test_split(X, y, test_size=0.2, random_state=42)"
      ]
    },
    {
      "cell_type": "code",
      "execution_count": 6,
      "id": "e0aa4ff5",
      "metadata": {
        "id": "e0aa4ff5"
      },
      "outputs": [],
      "source": [
        "# Standarise the data\n",
        "scaler_x = StandardScaler()\n",
        "X_train = scaler_x.fit_transform(X_train)\n",
        "X_test = scaler_x.transform(X_test)\n",
        "\n",
        "scaler_y = StandardScaler()\n",
        "y_train = scaler_y.fit_transform(y_train)\n",
        "y_test = scaler_y.transform(y_test)"
      ]
    },
    {
      "cell_type": "code",
      "execution_count": 7,
      "id": "16adbfa3",
      "metadata": {
        "id": "16adbfa3"
      },
      "outputs": [],
      "source": [
        "# Convert Array to Tensor\n",
        "X_train = torch.tensor(X_train, dtype=torch.float32)\n",
        "X_test = torch.tensor(X_test, dtype=torch.float32)\n",
        "y_train = torch.tensor(y_train, dtype=torch.float32)\n",
        "y_test = torch.tensor(y_test, dtype=torch.float32)"
      ]
    },
    {
      "cell_type": "markdown",
      "id": "818370bd",
      "metadata": {
        "id": "818370bd"
      },
      "source": [
        "## Training CGAN Model"
      ]
    },
    {
      "cell_type": "code",
      "execution_count": 8,
      "id": "69bc9b97",
      "metadata": {
        "id": "69bc9b97"
      },
      "outputs": [],
      "source": [
        "# Hyperparameters\n",
        "g_dim = 32\n",
        "d_dim = 32\n",
        "z_dim = 20\n",
        "lr = 1e-4\n",
        "step = 2000\n",
        "gamma = 0.2\n",
        "epochs = 10000"
      ]
    },
    {
      "cell_type": "markdown",
      "id": "af6eddb6",
      "metadata": {
        "id": "af6eddb6"
      },
      "source": [
        "##### Generator"
      ]
    },
    {
      "cell_type": "code",
      "execution_count": 9,
      "id": "ac2859bd",
      "metadata": {
        "id": "ac2859bd"
      },
      "outputs": [],
      "source": [
        "class Generator(nn.Module):\n",
        "    def __init__(self):\n",
        "        super().__init__()\n",
        "        self.net = nn.Sequential(\n",
        "            nn.Linear(z_dim + 4, g_dim),\n",
        "            nn.BatchNorm1d(g_dim),\n",
        "            nn.ReLU(),\n",
        "            nn.Linear(g_dim, g_dim),\n",
        "            nn.BatchNorm1d(g_dim),\n",
        "            nn.ReLU(),\n",
        "            nn.Linear(g_dim, 1),\n",
        "        )\n",
        "\n",
        "    def forward(self, x, z):\n",
        "        out = torch.cat([x, z], dim=1)\n",
        "        return self.net(out)"
      ]
    },
    {
      "cell_type": "markdown",
      "id": "8c7613ea",
      "metadata": {
        "id": "8c7613ea"
      },
      "source": [
        "##### Discriminator"
      ]
    },
    {
      "cell_type": "code",
      "execution_count": null,
      "id": "d460762b",
      "metadata": {
        "id": "d460762b"
      },
      "outputs": [],
      "source": [
        "class Discriminator(nn.Module):\n",
        "    def __init__(self):\n",
        "        super().__init__()\n",
        "        self.net = nn.Sequential(\n",
        "            nn.Linear(4 + 1, d_dim),\n",
        "            nn.BatchNorm1d(d_dim),\n",
        "            nn.ReLU(),\n",
        "            nn.Linear(d_dim, d_dim),\n",
        "            nn.BatchNorm1d(d_dim),\n",
        "            nn.ReLU(),\n",
        "            nn.Linear(d_dim, 1),\n",
        "            nn.Sigmoid()\n",
        "        )\n",
        "\n",
        "    def forward(self, x, y):\n",
        "        out = torch.cat([x, y], dim=1)\n",
        "        return self.net(out)"
      ]
    },
    {
      "cell_type": "code",
      "execution_count": 11,
      "id": "7c2cc009",
      "metadata": {
        "id": "7c2cc009"
      },
      "outputs": [],
      "source": [
        "generator  = Generator().to(device)\n",
        "discriminator = Discriminator().to(device)\n",
        "\n",
        "criterion = nn.MSELoss()\n",
        "\n",
        "optimG = torch.optim.Adam(generator.parameters(), lr=lr)\n",
        "optimD = torch.optim.Adam(discriminator.parameters(), lr=lr)\n",
        "\n",
        "schedulerG = torch.optim.lr_scheduler.StepLR(optimG, step_size=step, gamma=gamma)\n",
        "schedulerD = torch.optim.lr_scheduler.StepLR(optimD, step_size=step, gamma=gamma)"
      ]
    },
    {
      "cell_type": "markdown",
      "id": "f8c9c909",
      "metadata": {
        "id": "f8c9c909"
      },
      "source": [
        "##### Training loop"
      ]
    },
    {
      "cell_type": "code",
      "execution_count": 12,
      "id": "e63568c4",
      "metadata": {
        "id": "e63568c4"
      },
      "outputs": [],
      "source": [
        "# losses\n",
        "g_losses = []\n",
        "d_losses = []\n",
        "g_test_losses = []\n",
        "d_test_losses = []\n",
        "mse = []\n",
        "mse_test = []"
      ]
    },
    {
      "cell_type": "code",
      "execution_count": 13,
      "id": "77bf4f30",
      "metadata": {
        "colab": {
          "base_uri": "https://localhost:8080/"
        },
        "id": "77bf4f30",
        "outputId": "5199215a-3949-4f5d-fd82-1ade072dd05b"
      },
      "outputs": [
        {
          "name": "stdout",
          "output_type": "stream",
          "text": [
            "Epoch : 500/10000, loss_d = 1.336316, loss_g = 0.729008\n",
            "Epoch : 1000/10000, loss_d = 1.360959, loss_g = 0.712811\n",
            "Epoch : 1500/10000, loss_d = 1.342750, loss_g = 0.726523\n",
            "Epoch : 2000/10000, loss_d = 1.358022, loss_g = 0.723202\n",
            "Epoch : 2500/10000, loss_d = 1.355705, loss_g = 0.718912\n",
            "Epoch : 3000/10000, loss_d = 1.353762, loss_g = 0.721967\n",
            "Epoch : 3500/10000, loss_d = 1.351142, loss_g = 0.727689\n",
            "Epoch : 4000/10000, loss_d = 1.347011, loss_g = 0.721875\n",
            "Epoch : 4500/10000, loss_d = 1.348004, loss_g = 0.725838\n",
            "Epoch : 5000/10000, loss_d = 1.348479, loss_g = 0.725103\n",
            "Epoch : 5500/10000, loss_d = 1.346352, loss_g = 0.725809\n",
            "Epoch : 6000/10000, loss_d = 1.346197, loss_g = 0.727075\n",
            "Epoch : 6500/10000, loss_d = 1.346932, loss_g = 0.727513\n",
            "Epoch : 7000/10000, loss_d = 1.345809, loss_g = 0.726204\n",
            "Epoch : 7500/10000, loss_d = 1.345359, loss_g = 0.727333\n",
            "Epoch : 8000/10000, loss_d = 1.345549, loss_g = 0.727691\n",
            "Epoch : 8500/10000, loss_d = 1.345358, loss_g = 0.726954\n",
            "Epoch : 9000/10000, loss_d = 1.344960, loss_g = 0.726976\n",
            "Epoch : 9500/10000, loss_d = 1.345124, loss_g = 0.727238\n",
            "Epoch : 10000/10000, loss_d = 1.344846, loss_g = 0.727029\n"
          ]
        }
      ],
      "source": [
        "for epoch in range(epochs):\n",
        "    generator.train(), discriminator.train()\n",
        "    X_train, y_train = X_train.to(device), y_train.to(device)\n",
        "\n",
        "    # Train discriminator\n",
        "    optimD.zero_grad()\n",
        "    z = torch.randn(X_train.size(0), z_dim, device=device)\n",
        "    y_train_fake = generator(X_train, z)\n",
        "    d_real = discriminator(X_train, y_train)\n",
        "    d_fake = discriminator(X_train, y_train_fake)\n",
        "    loss_d = -torch.log(d_real).mean() - torch.log(1 - d_fake).mean()\n",
        "    loss_d.backward()\n",
        "    optimD.step()\n",
        "\n",
        "    # Train generator\n",
        "    optimG.zero_grad()\n",
        "    z = torch.randn(X_train.size(0), z_dim, device=device)\n",
        "    y_train_fake = generator(X_train, z)\n",
        "    d_fake = discriminator(X_train, y_train_fake)\n",
        "    loss_g = -torch.log(d_fake).mean()\n",
        "    epoch_mse = criterion(y_train_fake, y_train)\n",
        "    loss_g.backward()\n",
        "    optimG.step()\n",
        "\n",
        "    g_losses.append(loss_g.item())\n",
        "    d_losses.append(loss_d.item())\n",
        "    mse.append(epoch_mse.item())\n",
        "\n",
        "    if (epoch + 1) % 500 == 0:\n",
        "        print(f\"Epoch : {epoch+1}/{epochs}, loss_d = {loss_d:4f}, loss_g = {loss_g:4f}\")\n",
        "\n",
        "    schedulerG.step()\n",
        "    schedulerD.step()\n",
        "\n",
        "    # Model evaluation on test set\n",
        "    generator.eval()\n",
        "    with torch.no_grad():\n",
        "        X_test, y_test = X_test.to(device), y_test.to(device)\n",
        "        z = torch.randn(X_test.size(0), z_dim, device=device)\n",
        "        y_test_fake = generator(X_test, z)\n",
        "        d_real = discriminator(X_test, y_test)\n",
        "        d_fake = discriminator(X_test, y_test_fake)\n",
        "        loss_d = -torch.log(d_real).mean() - torch.log(1 - d_fake).mean()\n",
        "        loss_g = -torch.log(d_fake).mean()\n",
        "        epoch_mse_test = criterion(y_test_fake, y_test)\n",
        "\n",
        "        g_test_losses.append(loss_g.item())\n",
        "        d_test_losses.append(loss_d.item())\n",
        "        mse_test.append(epoch_mse_test.item())\n",
        "\n",
        "\n",
        "# Save Model\n",
        "torch.save(generator.state_dict(), \"CGAN_model.pth\")\n",
        "\n",
        "losses_cgan_df = pd.DataFrame(\n",
        "    {\n",
        "        \"g_losses\": g_losses,\n",
        "        \"d_losses\": d_losses,\n",
        "        \"g_test_loss\": g_test_losses,\n",
        "        \"d_test_loss\": d_test_losses,\n",
        "        \"mse\": mse,\n",
        "        \"mse_test\": mse_test,\n",
        "    })\n",
        "losses_cgan_df.to_csv(\"CGAN_losses.csv\", index=False)"
      ]
    },
    {
      "cell_type": "code",
      "execution_count": 14,
      "id": "6aca7b62",
      "metadata": {
        "colab": {
          "base_uri": "https://localhost:8080/",
          "height": 707
        },
        "id": "6aca7b62",
        "outputId": "86976574-55f6-498c-d865-634e6ebf6eeb"
      },
      "outputs": [
        {
          "data": {
            "image/png": "[encoded data removed]",
            "text/plain": [
              "<Figure size 600x700 with 3 Axes>"
            ]
          },
          "metadata": {},
          "output_type": "display_data"
        }
      ],
      "source": [
        "plt.figure(figsize=(6, 7))\n",
        "plt.subplot(3,1,1)\n",
        "plt.plot(losses_cgan_df['g_losses'], label='Train Generator')\n",
        "plt.plot(losses_cgan_df['g_test_loss'], label='Test Generator', alpha = 0.8)\n",
        "plt.ylabel('Loss')\n",
        "plt.legend()\n",
        "plt.tick_params(axis='x', which='both', bottom=False, labelbottom=False)\n",
        "\n",
        "plt.subplot(3,1,2)\n",
        "plt.plot(losses_cgan_df['d_losses'], label='Train Discriminator')\n",
        "plt.plot(losses_cgan_df['d_test_loss'], label='Test Discriminator', alpha = 0.8)\n",
        "plt.ylabel('Loss')\n",
        "plt.legend()\n",
        "plt.tick_params(axis='x', which='both', bottom=False, labelbottom=False)\n",
        "\n",
        "plt.subplot(3,1,3)\n",
        "plt.plot(losses_cgan_df['mse'], label='Train MSE')\n",
        "plt.plot(losses_cgan_df['mse_test'], label='Test MSE', alpha = 0.8)\n",
        "plt.xlabel('Epoch')\n",
        "plt.ylabel('MSE')\n",
        "plt.legend()\n",
        "plt.tight_layout()\n",
        "plt.savefig('CGAN Losses.png', dpi=300, bbox_inches='tight')\n",
        "plt.show()"
      ]
    },
    {
      "cell_type": "markdown",
      "id": "814ea59d",
      "metadata": {
        "id": "814ea59d"
      },
      "source": [
        "## Training MDN Model"
      ]
    },
    {
      "cell_type": "code",
      "execution_count": 15,
      "id": "e9da8d8c",
      "metadata": {
        "id": "e9da8d8c"
      },
      "outputs": [],
      "source": [
        "# Hyperparameters\n",
        "input_dim = X_train.size(1)\n",
        "hidden_dim = 32\n",
        "num_mixture = 30\n",
        "lr = 1e-4\n",
        "epochs = 5000"
      ]
    },
    {
      "cell_type": "code",
      "execution_count": 16,
      "id": "a680a415",
      "metadata": {
        "id": "a680a415"
      },
      "outputs": [],
      "source": [
        "class MDN(nn.Module):\n",
        "    def __init__(self, input_dim, hidden_dim, num_mixture):\n",
        "        super().__init__()\n",
        "        self.hidden = nn.Sequential(\n",
        "            nn.Linear(input_dim, hidden_dim),\n",
        "            nn.BatchNorm1d(hidden_dim),\n",
        "            nn.PReLU(),\n",
        "            nn.Linear(hidden_dim, hidden_dim),\n",
        "            nn.BatchNorm1d(hidden_dim),\n",
        "            nn.PReLU(),\n",
        "        )\n",
        "\n",
        "        self.num_mixture = num_mixture  #  π, σ, μ for each mixture\n",
        "        self.out= nn.Linear(hidden_dim, num_mixture * 3)\n",
        "\n",
        "    def forward(self, x):\n",
        "        x = self.hidden(x)\n",
        "        output = self.out(x)\n",
        "\n",
        "        # Splitting output into mean, std and mixing coeffs\n",
        "        pi_logist, mu, log_sigma = torch.chunk(output, 3, dim=1)\n",
        "        sigma = torch.exp(log_sigma)    # ensure positivity\n",
        "        pi = torch.nn.functional.softmax(pi_logist, dim=1)\n",
        "\n",
        "        return pi, mu, sigma"
      ]
    },
    {
      "cell_type": "markdown",
      "id": "b6c098cf",
      "metadata": {
        "id": "b6c098cf"
      },
      "source": [
        "##### MDN Loss function"
      ]
    },
    {
      "cell_type": "code",
      "execution_count": 17,
      "id": "7a2892f4",
      "metadata": {
        "id": "7a2892f4"
      },
      "outputs": [],
      "source": [
        "def mdn_loss(pi, mu, sigma, y):\n",
        "    m = torch.distributions.Normal(loc=mu, scale=sigma)\n",
        "    log_probs = m.log_prob(y)\n",
        "    weighted_log_probs = log_probs + torch.log(pi + 1e-8)\n",
        "    log_sum = torch.logsumexp(weighted_log_probs, dim=1)\n",
        "    loss = -log_sum.mean()\n",
        "    return loss"
      ]
    },
    {
      "cell_type": "code",
      "execution_count": 18,
      "id": "b9a761bf",
      "metadata": {
        "id": "b9a761bf"
      },
      "outputs": [],
      "source": [
        "model = MDN(input_dim, hidden_dim, num_mixture).to(device)\n",
        "criterion = nn.MSELoss()\n",
        "optim = torch.optim.Adam(model.parameters(), lr=lr)"
      ]
    },
    {
      "cell_type": "markdown",
      "id": "ff0b188c",
      "metadata": {
        "id": "ff0b188c"
      },
      "source": [
        "##### Training loop"
      ]
    },
    {
      "cell_type": "code",
      "execution_count": 19,
      "id": "9bb3658b",
      "metadata": {
        "id": "9bb3658b"
      },
      "outputs": [],
      "source": [
        "# losses\n",
        "train_loss = []\n",
        "test_loss = []\n",
        "mse_train = []\n",
        "mse_test = []"
      ]
    },
    {
      "cell_type": "code",
      "execution_count": 20,
      "id": "e38d1cc9",
      "metadata": {
        "colab": {
          "base_uri": "https://localhost:8080/"
        },
        "id": "e38d1cc9",
        "outputId": "a6e7123c-a95d-4f3f-cdfc-46cd63bb4e03"
      },
      "outputs": [
        {
          "name": "stdout",
          "output_type": "stream",
          "text": [
            "Epoch : 500/5000, loss = 0.117274\n",
            "Epoch : 1000/5000, loss = -0.305402\n",
            "Epoch : 1500/5000, loss = -0.403955\n",
            "Epoch : 2000/5000, loss = -0.463486\n",
            "Epoch : 2500/5000, loss = -0.505121\n",
            "Epoch : 3000/5000, loss = -0.532710\n",
            "Epoch : 3500/5000, loss = -0.549013\n",
            "Epoch : 4000/5000, loss = -0.560899\n",
            "Epoch : 4500/5000, loss = -0.570501\n",
            "Epoch : 5000/5000, loss = -0.573969\n"
          ]
        }
      ],
      "source": [
        "for epoch in range(epochs):\n",
        "    model.train()\n",
        "    X_train, y_train = X_train.to(device), y_train.to(device)\n",
        "    pi, mu, sigma = model(X_train)\n",
        "    loss = mdn_loss(pi, mu, sigma, y_train)\n",
        "    optim.zero_grad()\n",
        "    loss.backward()\n",
        "    optim.step()\n",
        "\n",
        "    y_train_pred = (pi * mu).sum(dim=1, keepdim=True)\n",
        "    mse_loss = criterion(y_train_pred, y_train)\n",
        "\n",
        "    train_loss.append(loss.item())\n",
        "    mse_train.append(mse_loss.item())\n",
        "\n",
        "    # loss for test dataset\n",
        "    model.eval()\n",
        "    X_test, y_test = X_test.to(device), y_test.to(device)\n",
        "    with torch.no_grad():\n",
        "        pi, mu, sigma = model(X_test)\n",
        "        loss = mdn_loss(pi, mu, sigma, y_test)\n",
        "\n",
        "        y_test_pred = (pi * mu).sum(dim=1, keepdim=True)\n",
        "        mse_loss = criterion(y_test_pred, y_test)\n",
        "\n",
        "    test_loss.append(loss.item())\n",
        "    mse_test.append(mse_loss.item())\n",
        "\n",
        "    if (epoch + 1) % 500 == 0:\n",
        "        print(f\"Epoch : {epoch+1}/{epochs}, loss = {loss.item():4f}\")\n",
        "\n",
        "\n",
        "losses_mdn_df = pd.DataFrame(\n",
        "    {\n",
        "        \"train_loss\": train_loss,\n",
        "        \"test_loss\": test_loss,\n",
        "        \"mse_train\": mse_train,\n",
        "        \"mse_test\": mse_test,\n",
        "    }\n",
        ")\n",
        "\n",
        "torch.save(model.state_dict(), \"MDN_model.pth\")\n",
        "losses_mdn_df.to_csv(\"MDN_losses.csv\", index=False)"
      ]
    },
    {
      "cell_type": "code",
      "execution_count": 21,
      "id": "6e94eaf6",
      "metadata": {
        "colab": {
          "base_uri": "https://localhost:8080/",
          "height": 487
        },
        "id": "6e94eaf6",
        "outputId": "9fdba224-97ff-468f-ad05-8901cf797bb1"
      },
      "outputs": [
        {
          "data": {
            "image/png": "[encoded data removed]",
            "text/plain": [
              "<Figure size 640x480 with 2 Axes>"
            ]
          },
          "metadata": {},
          "output_type": "display_data"
        }
      ],
      "source": [
        "plt.subplot(2,1,1)\n",
        "plt.plot(losses_mdn_df['train_loss'], label='Train MDN')\n",
        "plt.plot(losses_mdn_df['test_loss'], label='Test MDN', linestyle = '--')\n",
        "plt.ylabel('Loss')\n",
        "plt.legend()\n",
        "plt.tick_params(axis='x', which='both', bottom=False, labelbottom=False)\n",
        "\n",
        "plt.subplot(2,1,2)\n",
        "plt.plot(losses_mdn_df['mse_train'], label='Train MSE')\n",
        "plt.plot(losses_mdn_df['mse_test'], label='Test MSE', linestyle = '--')\n",
        "plt.xlabel('Epoch')\n",
        "plt.ylabel('MSE')\n",
        "plt.legend()\n",
        "plt.tight_layout()\n",
        "plt.savefig('MDN Losses.png', dpi=300, bbox_inches='tight')\n",
        "plt.show()"
      ]
    }
  ],
  "metadata": {
    "accelerator": "GPU",
    "colab": {
      "gpuType": "T4",
      "provenance": []
    },
    "kernelspec": {
      "display_name": "Python 3",
      "name": "python3"
    },
    "language_info": {
      "codemirror_mode": {
        "name": "ipython",
        "version": 3
      },
      "file_extension": ".py",
      "mimetype": "text/x-python",
      "name": "python",
      "nbconvert_exporter": "python",
      "pygments_lexer": "ipython3",
      "version": "3.12.4"
    }
  },
  "nbformat": 4,
  "nbformat_minor": 5
}
